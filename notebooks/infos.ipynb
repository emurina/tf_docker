{
 "cells": [
  {
   "cell_type": "code",
   "execution_count": 1,
   "metadata": {
    "collapsed": false,
    "deletable": true,
    "editable": true
   },
   "outputs": [
    {
     "name": "stderr",
     "output_type": "stream",
     "text": [
      "Using TensorFlow backend.\n"
     ]
    },
    {
     "name": "stdout",
     "output_type": "stream",
     "text": [
      "Tensorflow :  1.0.0\n",
      "Keras      :  2.0.0\n",
      "tflearn    :  0.3\n",
      "Python     :  sys.version_info(major=3, minor=4, micro=3, releaselevel='final', serial=0)\n",
      "Date       :  2017-03-14 19:41:46\n"
     ]
    }
   ],
   "source": [
    "import tensorflow as tf \n",
    "import sys\n",
    "import keras\n",
    "import tflearn\n",
    "import time \n",
    "import pkg_resources\n",
    "import datetime\n",
    "\n",
    "print(\"Tensorflow : \", tf.__version__)\n",
    "print(\"Keras      : \", keras.__version__)\n",
    "print(\"tflearn    : \", pkg_resources.get_distribution(\"tflearn\").version) #Likes to hide a bit\n",
    "print(\"Python     : \", sys.version_info)\n",
    "print(\"Date       : \", time.strftime(\"%Y-%m-%d %H:%M:%S\"))"
   ]
  },
  {
   "cell_type": "markdown",
   "metadata": {
    "deletable": true,
    "editable": true
   },
   "source": [
    "### More infos: \n",
    "\n",
    "#### Libraries\n",
    "* https://www.tensorflow.org/\n",
    "* https://keras.io/\n",
    "* http://tflearn.org/examples/\n",
    "\n",
    "#### DL-Course\n",
    "* https://tensorchiefs.github.io/dl_course/ "
   ]
  },
  {
   "cell_type": "markdown",
   "metadata": {
    "deletable": true,
    "editable": true
   },
   "source": [
    "### Cloning a course\n",
    "\n",
    "You might clone an abitrary github repository e.g. tensorchiefs/dl_course.git [deep learning course](https://tensorchiefs.github.io/dl_course/) with"
   ]
  },
  {
   "cell_type": "code",
   "execution_count": null,
   "metadata": {
    "collapsed": false,
    "deletable": true,
    "editable": true
   },
   "outputs": [],
   "source": [
    "!git clone https://github.com/tensorchiefs/dl_course.git\n",
    "#!git clone https://github.com/oduerr/dl_tutorial.git"
   ]
  },
  {
   "cell_type": "code",
   "execution_count": null,
   "metadata": {
    "collapsed": false,
    "deletable": true,
    "editable": true
   },
   "outputs": [],
   "source": [
    "!pwd"
   ]
  },
  {
   "cell_type": "code",
   "execution_count": null,
   "metadata": {
    "collapsed": false,
    "deletable": true,
    "editable": true
   },
   "outputs": [],
   "source": [
    "!ls"
   ]
  }
 ],
 "metadata": {
  "kernelspec": {
   "display_name": "Python 3",
   "language": "python",
   "name": "python3"
  },
  "language_info": {
   "codemirror_mode": {
    "name": "ipython",
    "version": 3
   },
   "file_extension": ".py",
   "mimetype": "text/x-python",
   "name": "python",
   "nbconvert_exporter": "python",
   "pygments_lexer": "ipython3",
   "version": "3.4.3"
  }
 },
 "nbformat": 4,
 "nbformat_minor": 2
}
